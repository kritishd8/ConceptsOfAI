{
 "cells": [
  {
   "cell_type": "code",
   "execution_count": 4,
   "id": "5b480126-aa11-4555-bf84-ec3ca49fc4d8",
   "metadata": {},
   "outputs": [
    {
     "name": "stdout",
     "output_type": "stream",
     "text": [
      "Cold temperatures: [5, 8, 9]\n",
      "Mild temperatures: [12, 10, 14]\n",
      "Comfortable temperatures: [16, 18, 20]\n"
     ]
    }
   ],
   "source": [
    "# 7. TODO Task\n",
    "\n",
    "# Task 1. Classify Temperatures:\n",
    "\n",
    "# 1. Create empty lists for temperature classifications:\n",
    "# (a) Cold: temperatures below 10°C.\n",
    "# (b) Mild: temperatures between 10°C and 15°C.\n",
    "# (c) Comfortable: temperatures between 15°C and 20°C.\n",
    "\n",
    "cold = []\n",
    "mild = []\n",
    "comfortable = []\n",
    "\n",
    "temperatures = [5, 12, 8, 16, 18, 10, 14, 20, 9]\n",
    "\n",
    "# 2. Iterate over the temperatures list and add each temperature to the appropriate category.\n",
    "for temp in temperatures:\n",
    "    if temp < 10:\n",
    "        cold.append(temp)\n",
    "    elif 10 <= temp <= 15:\n",
    "        mild.append(temp)\n",
    "    elif 15 < temp <= 20:\n",
    "        comfortable.append(temp)\n",
    "\n",
    "# 3. Print the lists to verify the classifications.\n",
    "print(\"Cold temperatures:\", cold)\n",
    "print(\"Mild temperatures:\", mild)\n",
    "print(\"Comfortable temperatures:\", comfortable)\n"
   ]
  },
  {
   "cell_type": "code",
   "execution_count": 6,
   "id": "8098116d-c4cc-49f7-af0f-0fd706e53164",
   "metadata": {},
   "outputs": [
    {
     "name": "stdout",
     "output_type": "stream",
     "text": [
      "(a) It was mild 3 times.\n",
      "It was comfortable 3 times.\n",
      "It was cold 3 times.\n"
     ]
    }
   ],
   "source": [
    "# Task 2. Based on Data - Answer all the Questions:\n",
    "# 1. How many times was it mild?\n",
    "# (a) Hint: Count the number of items in the mild list and print the result.\n",
    "mild_count = len(mild)\n",
    "print(f\"(a) It was mild {mild_count} times.\")\n",
    "\n",
    "# 2. How many times was it comfortable?\n",
    "comfortable_count = len(comfortable)\n",
    "print(f\"It was comfortable {comfortable_count} times.\")\n",
    "\n",
    "# 3. How many times was it cold?\n",
    "cold_count = len(cold)\n",
    "print(f\"It was cold {cold_count} times.\")"
   ]
  },
  {
   "cell_type": "code",
   "execution_count": 7,
   "id": "c9161f4a-f883-4a06-b44e-24e7d098de6d",
   "metadata": {},
   "outputs": [
    {
     "name": "stdout",
     "output_type": "stream",
     "text": [
      "Temperatures in Fahrenheit: [41.0, 53.6, 46.4, 60.8, 64.4, 50.0, 57.2, 68.0, 48.2]\n"
     ]
    }
   ],
   "source": [
    "# Task 3. Convert Temperatures from Celsius to Fahrenheit\n",
    "\n",
    "# Using the formula for temperature conversion, convert each reading from Celsius to Fahrenheit and store it in a new list called temperatures_fahrenheit.\n",
    "# Formula: Fahrenheit = (Celsius × 9/5) + 32\n",
    "\n",
    "# 1. Iterate over the temperatures list and apply the formula to convert each temperature.\n",
    "# 2. Store the results in the new list.\n",
    "temperatures_fahrenheit = []\n",
    "\n",
    "for temp in temperatures:\n",
    "    fahrenheit = (temp * 9/5) + 32\n",
    "    temperatures_fahrenheit.append(fahrenheit)\n",
    "\n",
    "# 3. Print the converted Fahrenheit values.\n",
    "print(\"Temperatures in Fahrenheit:\", temperatures_fahrenheit)"
   ]
  },
  {
   "cell_type": "code",
   "execution_count": 9,
   "id": "a5c5bd56-1478-4ca1-9d62-93356aeabf2a",
   "metadata": {},
   "outputs": [
    {
     "name": "stdout",
     "output_type": "stream",
     "text": [
      "Average day-time temperature: 24.50°C\n"
     ]
    },
    {
     "data": {
      "image/png": "[encoded data removed]",
      "text/plain": [
       "<Figure size 1000x600 with 1 Axes>"
      ]
     },
     "metadata": {},
     "output_type": "display_data"
    }
   ],
   "source": [
    "# Task 4. Analyze Temperature Patterns by Time of Day:\n",
    "\n",
    "# Scenario: Each day’s readings are grouped as:\n",
    "# Night (00-08),\n",
    "# Evening (08-16),\n",
    "# Day (16-24).\n",
    "\n",
    "import matplotlib.pyplot as plt\n",
    "\n",
    "# 1. Create empty lists for night, day, and evening temperatures.\n",
    "night_temps = []\n",
    "evening_temps = []\n",
    "day_temps = []\n",
    "\n",
    "# 2. Iterate over the temperatures list, assigning values to each time-of-day list based on their position.\n",
    "temperatures = [5, 6, 7, 8, 9, 10, 11, 12, 13, 14, 15, 16, \n",
    "                17, 18, 19, 20, 21, 22, 23, 24, 25, 26, 27, 28]\n",
    "\n",
    "for i, temp in enumerate(temperatures):\n",
    "    if 0 <= i < 8:   # Night (00-08)\n",
    "        night_temps.append(temp)\n",
    "    elif 8 <= i < 16:  # Evening (08-16)\n",
    "        evening_temps.append(temp)\n",
    "    elif 16 <= i < 24:  # Day (16-24)\n",
    "        day_temps.append(temp)\n",
    "\n",
    "\n",
    "# 3. Calculate and print the average day-time temperature.\n",
    "if day_temps:\n",
    "    average_day_temp = sum(day_temps) / len(day_temps)\n",
    "    print(f\"Average day-time temperature: {average_day_temp:.2f}°C\")\n",
    "else:\n",
    "    print(\"No day-time temperatures available.\")\n",
    "        \n",
    "# 4. (Optional) Plot ”day vs. temperature” using matplotlib.\n",
    "time_labels = [\"Night\"] * len(night_temps) + [\"Evening\"] * len(evening_temps) + [\"Day\"] * len(day_temps)\n",
    "all_temps = night_temps + evening_temps + day_temps\n",
    "\n",
    "plt.figure(figsize=(10, 6))\n",
    "plt.plot(time_labels, all_temps, marker='o', linestyle='-')\n",
    "plt.title(\"Time of Day vs. Temperature\")\n",
    "plt.xlabel(\"Time of Day\")\n",
    "plt.ylabel(\"Temperature (°C)\")\n",
    "plt.grid(True)\n",
    "plt.show()"
   ]
  },
  {
   "cell_type": "code",
   "execution_count": 16,
   "id": "d34e5c5a-574c-4dab-a25e-3536c6260449",
   "metadata": {},
   "outputs": [
    {
     "name": "stdout",
     "output_type": "stream",
     "text": [
      "Test Case 1:\n",
      "Input: [1, [2, [3, 4], 5], 6, [7, 8]]\n",
      "Output: 36\n",
      "\n",
      "Test Case 2:\n",
      "Input: [1, [2, 3], [4, [5]]]\n",
      "Output: 15\n"
     ]
    }
   ],
   "source": [
    "# 8.1.1: Recursion\n",
    "\n",
    "# Task 1 - Sum of Nested Lists:\n",
    "# Scenario: You have a list that contains numbers and other lists of numbers (nested lists). \n",
    "# You want to find the total sum of all the numbers in this structure.\n",
    "\n",
    "# Task: Write a recursive function sum_nested_list(nested_list) that:\n",
    "# 1. Takes a nested list (a list that can contain numbers or other lists of numbers) asinput.\n",
    "# 2. Sums all numbers at every depth level of the list, regardless of how deeply nested the numbers are.\n",
    "\n",
    "# Test the function with a sample nested list, such as\n",
    "# nested_list = [1, [2, [3, 4], 5], 6, [7, 8]].\n",
    "# The result should be the total sum of all the numbers.\n",
    "\n",
    "def sum_nested_list(nested_list):\n",
    "    \"\"\"\n",
    "    Calculate the sum of all numbers in a nested list.\n",
    "    This function takes a list that may contain integers and other nested lists.\n",
    "    It recursively traverses the list and sums all the integers, no matter how deeply\n",
    "    nested they are.\n",
    "\n",
    "    Args:\n",
    "        nested_list (list): A list that may contain integers or other lists of integers.\n",
    "\n",
    "    Returns:\n",
    "        int: The total sum of all integers in the nested list, including those in sublists.\n",
    "\n",
    "    Example:\n",
    "        >>> sum_nested_list([1, [2, [3, 4], 5], 6, [7, 8]])\n",
    "        36\n",
    "        >>> sum_nested_list([1, [2, 3], [4, [5]]])\n",
    "        15\n",
    "    \"\"\"\n",
    "    total = 0  # Initialize the sum\n",
    "    for element in nested_list:\n",
    "        if isinstance(element, list):  # Check if the element is a list\n",
    "            total += sum_nested_list(element)  # Recursively sum the nested list\n",
    "        else:\n",
    "            total += element  # Add the number to the total\n",
    "    return total\n",
    "\n",
    "\n",
    "nested_list_1 = [1, [2, [3, 4], 5], 6, [7, 8]]\n",
    "nested_list_2 = [1, [2, 3], [4, [5]]]\n",
    "\n",
    "print(\"Test Case 1:\")\n",
    "print(f\"Input: {nested_list_1}\")\n",
    "print(f\"Output: {sum_nested_list(nested_list_1)}\")  # Expected: 36\n",
    "\n",
    "print(\"\\nTest Case 2:\")\n",
    "print(f\"Input: {nested_list_2}\")\n",
    "print(f\"Output: {sum_nested_list(nested_list_2)}\")  # Expected: 15\n"
   ]
  },
  {
   "cell_type": "code",
   "execution_count": 17,
   "id": "9d28541d-15d7-46f8-a81a-fbf2e7325070",
   "metadata": {},
   "outputs": [
    {
     "name": "stdout",
     "output_type": "stream",
     "text": [
      "Permutations of 'abc': ['cab', 'abc', 'cba', 'bac', 'acb', 'bca']\n",
      "Permutations of 'aab': ['aab', 'baa', 'aba']\n"
     ]
    }
   ],
   "source": [
    "# Task 2 - Generate All Permutations of a String:\n",
    "# Scenario: Given a string, generate all possible permutations of its characters.\n",
    "# This is usefulfor understanding backtracking and recursive depth-first search.\n",
    "\n",
    "# Task: Write a recursive function generate_permutations(s) that:\n",
    "# - Takes a string s as input and returns a list of all unique permutations.\n",
    "\n",
    "# Test with strings like ”abc” and ”aab”.\n",
    "\n",
    "# print(generate_permutations(\"abc\")) Should return [’abc’, ’acb’, ’bac’, ’bca’, ’cab’, ’cba’]\n",
    "\n",
    "def generate_permutations(s):\n",
    "    if len(s) == 1:\n",
    "        return [s]\n",
    "\n",
    "    permutations = set()\n",
    "\n",
    "    for i in range(len(s)):\n",
    "        char = s[i]\n",
    "\n",
    "        # remaining characters after removing the current character\n",
    "        remaining = s[:i] + s[i+1:]\n",
    "\n",
    "        # permutation of the remaining characters\n",
    "        for perm in generate_permutations(remaining):\n",
    "            permutations.add(char + perm)\n",
    "\n",
    "    return list(permutations)\n",
    "\n",
    "\n",
    "print(\"Permutations of 'abc':\", generate_permutations(\"abc\"))\n",
    "print(\"Permutations of 'aab':\", generate_permutations(\"aab\"))"
   ]
  },
  {
   "cell_type": "code",
   "execution_count": 19,
   "id": "c58a8c4d-a0ac-4e48-8a97-3d8daf9952bb",
   "metadata": {},
   "outputs": [
    {
     "name": "stdout",
     "output_type": "stream",
     "text": [
      "The total size of the directory is: 1400 KB\n"
     ]
    }
   ],
   "source": [
    "# Task 3 - Directory Size Calculation:\n",
    "# Directory Size Calculation Scenario: Imagine a file system where directories can contain files (with sizes in KB) and other directories.\n",
    "# You want to calculate the total size of a directory, including all nested files and subdirectories.\n",
    "\n",
    "# Task 1: Write a recursive function calculate_directory_size(directory) where:\n",
    "# directory is a dictionary where keys represent file names (with values as sizes in KB) \n",
    "# or directory names (with values as another dictionary representing a subdirectory).\n",
    "# The function should return the total size of the directory, including all nested subdirectories.\n",
    "\n",
    "# Task 2: Test the function with a sample directory structure.\n",
    "\n",
    "\n",
    "def calculate_directory_size(directory):\n",
    "    total_size = 0\n",
    "\n",
    "    for key, value in directory.items():\n",
    "        if isinstance(value, dict):\n",
    "            total_size += calculate_directory_size(value)  # Recursively calculate size\n",
    "        else:\n",
    "            total_size += value\n",
    "\n",
    "    return total_size\n",
    "\n",
    "\n",
    "directory_structure = {\n",
    "    \"file1.txt\": 200,\n",
    "    \"file2.txt\": 300,\n",
    "    \"subdir1\": {\n",
    "        \"file3.txt\": 400,\n",
    "        \"file4.txt\": 100\n",
    "    },\n",
    "    \"subdir2\": {\n",
    "        \"subsubdir1\": {\n",
    "            \"file5.txt\": 250\n",
    "        },\n",
    "        \"file6.txt\": 150\n",
    "    }\n",
    "}\n",
    "\n",
    "total_size = calculate_directory_size(directory_structure)\n",
    "print(\"The total size of the directory is:\", total_size, \"KB\")\n"
   ]
  },
  {
   "cell_type": "code",
   "execution_count": 12,
   "id": "c8387583-d999-4cc7-a203-352a251bd2f1",
   "metadata": {},
   "outputs": [
    {
     "name": "stdout",
     "output_type": "stream",
     "text": [
      "Minimum coins required is: 3\n"
     ]
    }
   ],
   "source": [
    "# 8.2.2 Exercises\n",
    "\n",
    "# Task 1 - Coin Change Problem\n",
    "\n",
    "def min_coins(coins, amount):\n",
    "    \"\"\"\n",
    "    Finds the minimum number of coins needed to make up a given amount using dynamic programming.\n",
    "\n",
    "    Parameters:\n",
    "    coins (list of int): Available coin denominations.\n",
    "    amount (int): Target amount to achieve.\n",
    "\n",
    "    Returns:\n",
    "    int: Minimum number of coins required, or -1 if not possible.\n",
    "    \"\"\"\n",
    "\n",
    "    dp = [float('inf')] * (amount + 1)\n",
    "    dp[0] = 0\n",
    "\n",
    "    for coin in coins:\n",
    "        for i in range(coin, amount + 1):\n",
    "            dp[i] = min(dp[i], dp[i - coin] + 1)\n",
    "\n",
    "    return dp[amount] if dp[amount] != float('inf') else -1\n",
    "\n",
    "# Testing\n",
    "coins = [1, 2, 5]\n",
    "amount = 11\n",
    "result = min_coins(coins, amount)\n",
    "print(f\"Minimum coins required is: {result}\")  # Output should be 3"
   ]
  },
  {
   "cell_type": "code",
   "execution_count": 11,
   "id": "047737ab-de2f-4ba0-a9cc-cbf162170621",
   "metadata": {},
   "outputs": [
    {
     "name": "stdout",
     "output_type": "stream",
     "text": [
      "LCS length is 3, and the LCS is 'ace'\n"
     ]
    }
   ],
   "source": [
    "# Task 2 - LCS Problem\n",
    "\n",
    "def longest_common_subsequence(s1, s2):\n",
    "    m, n = len(s1), len(s2)\n",
    "\n",
    "    # 2D array to store LCS information\n",
    "    dp = [[\"\"] * (n + 1) for _ in range(m + 1)]\n",
    "\n",
    "    for i in range(1, m + 1):\n",
    "        for j in range(1, n + 1):\n",
    "            if s1[i - 1] == s2[j - 1]:  # If characters match\n",
    "                dp[i][j] = dp[i - 1][j - 1] + s1[i - 1]\n",
    "            else:  # If characters don't match, take the existing LCS\n",
    "                dp[i][j] = dp[i - 1][j] if len(dp[i - 1][j]) > len(dp[i][j - 1]) else dp[i][j - 1]\n",
    "\n",
    "    lcs_string = dp[m][n]\n",
    "    return len(lcs_string), lcs_string\n",
    "\n",
    "\n",
    "# Test case\n",
    "s1 = \"abcde\"\n",
    "s2 = \"ace\"\n",
    "lcs_length, lcs_string = longest_common_subsequence(s1, s2)\n",
    "print(f\"LCS length is {lcs_length}, and the LCS is '{lcs_string}'\")\n"
   ]
  },
  {
   "cell_type": "code",
   "execution_count": 18,
   "id": "2ea12f05-7e31-4a29-b6bf-624020f256b4",
   "metadata": {},
   "outputs": [
    {
     "name": "stdout",
     "output_type": "stream",
     "text": [
      "Maximum value for the given capacity is 9\n"
     ]
    }
   ],
   "source": [
    "# Task 3 - 0/1 Knapsack Problem\n",
    "\n",
    "def knapsack(weights, values, capacity):\n",
    "    n = len(weights)\n",
    "\n",
    "    # 2D array initialized to 0\n",
    "    dp = [[0] * (capacity + 1) for _ in range(n + 1)]\n",
    "\n",
    "    for i in range(1, n + 1):\n",
    "        for w in range(1, capacity + 1):\n",
    "            if weights[i - 1] <= w:  # If the item can be included\n",
    "                dp[i][w] = max(dp[i - 1][w], values[i - 1] + dp[i - 1][w - weights[i - 1]])\n",
    "            else:\n",
    "                dp[i][w] = dp[i - 1][w]\n",
    "\n",
    "    return dp[n][capacity]\n",
    "\n",
    "\n",
    "weights = [1, 3, 4, 5]\n",
    "values = [1, 4, 5, 7]\n",
    "capacity = 7\n",
    "\n",
    "max_value = knapsack(weights, values, capacity)\n",
    "print(f\"Maximum value for the given capacity is {max_value}\")\n"
   ]
  }
 ],
 "metadata": {
  "kernelspec": {
   "display_name": "Python 3 (ipykernel)",
   "language": "python",
   "name": "python3"
  },
  "language_info": {
   "codemirror_mode": {
    "name": "ipython",
    "version": 3
   },
   "file_extension": ".py",
   "mimetype": "text/x-python",
   "name": "python",
   "nbconvert_exporter": "python",
   "pygments_lexer": "ipython3",
   "version": "3.12.4"
  }
 },
 "nbformat": 4,
 "nbformat_minor": 5
}
